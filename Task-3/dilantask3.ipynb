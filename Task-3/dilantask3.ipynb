{
 "cells": [
  {
   "cell_type": "markdown",
   "id": "5f807292-c280-47ea-8672-196c84c266b4",
   "metadata": {},
   "source": [
    "1.import neccessary libraies."
   ]
  },
  {
   "cell_type": "code",
   "execution_count": null,
   "id": "f6d720ba-dd0e-4390-bd91-19ca579d5229",
   "metadata": {},
   "outputs": [],
   "source": [
    "import cv2\n",
    "import matplotlib.pyplot as plt"
   ]
  },
  {
   "cell_type": "markdown",
   "id": "1ddfd129-7c22-47cc-9a97-ba3fd10339ce",
   "metadata": {},
   "source": [
    "2.use cv2 and mathplotlib to read and display the 'monkey_image'."
   ]
  },
  {
   "cell_type": "code",
   "execution_count": null,
   "id": "417d0c0b-f7a5-48fa-b7f5-1f1e57b0e526",
   "metadata": {},
   "outputs": [],
   "source": [
    "monkey_image = cv2.imread('shocked_monkey.jpg')\n",
    "plt.imshow(cv2.cvtColor(monkey_image, cv2.COLOR_BGR2RGB))\n",
    "plt.show()"
   ]
  },
  {
   "cell_type": "markdown",
   "id": "488c5315-3f10-47a2-bd63-a8fce9039fdf",
   "metadata": {},
   "source": [
    "3.correct the color type to RGB using cv2 and show the result."
   ]
  },
  {
   "cell_type": "code",
   "execution_count": null,
   "id": "16eb1f94-11c8-4f8e-89a0-ee8ffb84550d",
   "metadata": {},
   "outputs": [],
   "source": [
    "monkey_image_rgb = cv2.cvtColor(monkey_image, cv2.COLOR_BGR2RGB)\n",
    "plt.imshow(monkey_image_rgb)\n",
    "plt.show()"
   ]
  },
  {
   "cell_type": "markdown",
   "id": "936c1f0e-6e28-49b8-977f-2e8afed687d6",
   "metadata": {},
   "source": [
    "4.Use slicing to set the RED and GREEN channels of the picture to 0 and use the imshow() to show the isoleted blue channel."
   ]
  },
  {
   "cell_type": "code",
   "execution_count": null,
   "id": "1a585fd8-1630-4cc1-a2f0-ea722d8bc3f0",
   "metadata": {},
   "outputs": [],
   "source": [
    "monkey_image_rgb[:, :, 0] = 0\n",
    "monkey_image_rgb[:, :, 1] = 0\n",
    "plt.imshow(monkey_image_rgb)\n",
    "plt.show()"
   ]
  },
  {
   "cell_type": "markdown",
   "id": "4583a9d1-c665-4460-b6d2-4eff1cb650b0",
   "metadata": {},
   "source": [
    "5.Open the \"shocked_guy\" image and display it in the notebook. Make sure to correct for the RGB order. Try to read and correct RGB in same line."
   ]
  },
  {
   "cell_type": "code",
   "execution_count": null,
   "id": "275acf24-8967-446d-a980-77ef172e3606",
   "metadata": {},
   "outputs": [],
   "source": [
    "shocked_guy_image = cv2.imread('shocked_guy.png')\n",
    "shocked_guy_image_rgb = cv2.cvtColor(shocked_guy_image, cv2.COLOR_BGR2RGB)\n",
    "plt.imshow(shocked_guy_image_rgb)\n",
    "plt.show()"
   ]
  },
  {
   "cell_type": "markdown",
   "id": "2946730f-8785-4835-8980-13b5adcfd7d2",
   "metadata": {},
   "source": [
    "6.Flip the image upside down and display it in the notebook."
   ]
  },
  {
   "cell_type": "code",
   "execution_count": null,
   "id": "05cf029b-3ee7-482e-bde0-8ced62e9cfc8",
   "metadata": {},
   "outputs": [],
   "source": [
    "flipped_image = cv2.flip(shocked_guy_image_rgb, 0)\n",
    "plt.imshow(flipped_image)\n",
    "plt.show()"
   ]
  },
  {
   "cell_type": "markdown",
   "id": "ac57413b-7acf-4a17-9c9c-2658cad720a8",
   "metadata": {},
   "source": [
    "7.Copy the image and draw an empty RED rectangle around the human face on coppied image and display the image in the notebook."
   ]
  },
  {
   "cell_type": "code",
   "execution_count": null,
   "id": "668776d5-b727-460d-97fe-c040460faf86",
   "metadata": {},
   "outputs": [],
   "source": [
    "import numpy as np\n",
    "\n",
    "copied_image = shocked_guy_image_rgb.copy()\n",
    "cv2.rectangle(copied_image, (50, 50), (200, 200), (255, 0, 0), 2)\n",
    "plt.imshow(copied_image)\n",
    "plt.show()"
   ]
  },
  {
   "cell_type": "markdown",
   "id": "37836bce-2515-4ce5-9981-63031c15a1c6",
   "metadata": {},
   "source": [
    "8.Open the \"shocked_cat\" image and display it in the notebook as black and white."
   ]
  },
  {
   "cell_type": "code",
   "execution_count": null,
   "id": "674d8b32-43c1-4034-a8d6-68daacc27eab",
   "metadata": {},
   "outputs": [],
   "source": [
    "shocked_cat_image = cv2.imread('shocked_cat.jpg', cv2.IMREAD_GRAYSCALE)\n",
    "plt.imshow(shocked_cat_image, cmap='gray')\n",
    "plt.show()"
   ]
  },
  {
   "cell_type": "markdown",
   "id": "4d24074d-3f42-4172-acb2-360eb36196ec",
   "metadata": {},
   "source": [
    "9.Apply a binary 'gray' threshold onto the image."
   ]
  },
  {
   "cell_type": "code",
   "execution_count": null,
   "id": "d059291f-63bd-4779-9fc9-5f33d3b1acca",
   "metadata": {},
   "outputs": [],
   "source": [
    "binary_image = cv2.threshold(shocked_cat_image, 127, 255, cv2.THRESH_BINARY)\n",
    "plt.imshow(binary_image, cmap='gray')\n",
    "plt.show()"
   ]
  },
  {
   "cell_type": "markdown",
   "id": "97edc4e8-9d34-40db-a28e-4b667817ad75",
   "metadata": {},
   "source": [
    "10.Create a Horizontal Sobel Filter with a kernel size of 5 to the grayscale version of the giaraffes image and then display the resulting gradient filtered version of the image."
   ]
  },
  {
   "cell_type": "code",
   "execution_count": null,
   "id": "c77b50b4-efb1-480e-8212-75b67edbd6c2",
   "metadata": {},
   "outputs": [],
   "source": [
    "giaraffes_image = cv2.imread('giaraffes.jpg', cv2.IMREAD_GRAYSCALE)\n",
    "sobelx = cv2.Sobel(giaraffes_image, cv2.CV_64F, 1, 0, ksize=5)\n",
    "plt.imshow(sobelx, cmap='gray')\n",
    "plt.show()"
   ]
  }
 ],
 "metadata": {
  "kernelspec": {
   "display_name": "Python [conda env:base] *",
   "language": "python",
   "name": "conda-base-py"
  },
  "language_info": {
   "codemirror_mode": {
    "name": "ipython",
    "version": 3
   },
   "file_extension": ".py",
   "mimetype": "text/x-python",
   "name": "python",
   "nbconvert_exporter": "python",
   "pygments_lexer": "ipython3",
   "version": "3.12.7"
  }
 },
 "nbformat": 4,
 "nbformat_minor": 5
}
